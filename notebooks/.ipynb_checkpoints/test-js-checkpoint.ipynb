{
 "cells": [
  {
   "cell_type": "code",
   "execution_count": 1,
   "metadata": {},
   "outputs": [
    {
     "name": "stdout",
     "output_type": "stream",
     "text": [
      "1\n"
     ]
    }
   ],
   "source": [
    "let x = 1\n",
    "console.log(x)"
   ]
  },
  {
   "cell_type": "code",
   "execution_count": 3,
   "metadata": {},
   "outputs": [],
   "source": [
    "import React from 'react'"
   ]
  },
  {
   "cell_type": "code",
   "execution_count": 4,
   "metadata": {},
   "outputs": [
    {
     "ename": "ReferenceError",
     "evalue": "React is not defined",
     "output_type": "error",
     "traceback": [
      "evalmachine.<anonymous>:1",
      "class Hello extends React.Component {",
      "                    ^",
      "",
      "ReferenceError: React is not defined",
      "    at evalmachine.<anonymous>:1:21",
      "    at Script.runInThisContext (vm.js:128:20)",
      "    at Object.runInThisContext (vm.js:319:38)",
      "    at run ([eval]:1054:15)",
      "    at onRunRequest ([eval]:888:18)",
      "    at onMessage ([eval]:848:13)",
      "    at process.emit (events.js:316:20)",
      "    at emit (internal/child_process.js:881:12)",
      "    at processTicksAndRejections (internal/process/task_queues.js:85:21)"
     ]
    }
   ],
   "source": [
    "class Hello extends React.Component {\n",
    "  render() {\n",
    "    return React.createElement('div', null, `Hello ${this.props.toWhat}`);\n",
    "  }\n",
    "}\n"
   ]
  },
  {
   "cell_type": "code",
   "execution_count": null,
   "metadata": {},
   "outputs": [],
   "source": []
  }
 ],
 "metadata": {
  "kernelspec": {
   "display_name": "jp-Babel (Node.js)",
   "language": "babel",
   "name": "babel"
  },
  "language_info": {
   "file_extension": ".js",
   "mimetype": "application/javascript",
   "name": "javascript",
   "version": "13.10.1"
  }
 },
 "nbformat": 4,
 "nbformat_minor": 4
}
