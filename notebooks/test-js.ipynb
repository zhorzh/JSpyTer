{
 "cells": [
  {
   "cell_type": "code",
   "execution_count": 1,
   "metadata": {},
   "outputs": [
    {
     "name": "stdout",
     "output_type": "stream",
     "text": [
      "1\n"
     ]
    }
   ],
   "source": [
    "let x = 1\n",
    "console.log(x)"
   ]
  },
  {
   "cell_type": "code",
   "execution_count": 2,
   "metadata": {},
   "outputs": [],
   "source": [
    "import React from 'react'\n",
    "class Hello extends React.Component {\n",
    "  render() {\n",
    "    return React.createElement('div', null, `Hello ${this.props.toWhat}`);\n",
    "  }\n",
    "}"
   ]
  },
  {
   "cell_type": "code",
   "execution_count": 2,
   "metadata": {},
   "outputs": [
    {
     "ename": "SyntaxError",
     "evalue": "unknown: Unexpected token (4:11)\n\n\u001b[0m \u001b[90m 2 | \u001b[39m\u001b[36mclass\u001b[39m \u001b[33mGreeting\u001b[39m \u001b[36mextends\u001b[39m \u001b[33mReact\u001b[39m\u001b[33m.\u001b[39m\u001b[33mComponent\u001b[39m {\u001b[0m\n\u001b[0m \u001b[90m 3 | \u001b[39m  render() {\u001b[0m\n\u001b[0m\u001b[31m\u001b[1m>\u001b[22m\u001b[39m\u001b[90m 4 | \u001b[39m    \u001b[36mreturn\u001b[39m \u001b[33m<\u001b[39m\u001b[33mh1\u001b[39m\u001b[33m>\u001b[39m\u001b[33mHello\u001b[39m\u001b[33m,\u001b[39m {\u001b[36mthis\u001b[39m\u001b[33m.\u001b[39mprops\u001b[33m.\u001b[39mname}\u001b[33m<\u001b[39m\u001b[33m/\u001b[39m\u001b[33mh1\u001b[39m\u001b[33m>\u001b[39m\u001b[33m;\u001b[39m\u001b[0m\n\u001b[0m \u001b[90m   | \u001b[39m           \u001b[31m\u001b[1m^\u001b[22m\u001b[39m\u001b[0m\n\u001b[0m \u001b[90m 5 | \u001b[39m  }\u001b[0m\n\u001b[0m \u001b[90m 6 | \u001b[39m}\u001b[0m\n\u001b[0m \u001b[90m 7 | \u001b[39m\u001b[0m",
     "output_type": "error",
     "traceback": [
      "SyntaxError: unknown: Unexpected token (4:11)",
      "",
      "\u001b[0m \u001b[90m 2 | \u001b[39m\u001b[36mclass\u001b[39m \u001b[33mGreeting\u001b[39m \u001b[36mextends\u001b[39m \u001b[33mReact\u001b[39m\u001b[33m.\u001b[39m\u001b[33mComponent\u001b[39m {\u001b[0m",
      "\u001b[0m \u001b[90m 3 | \u001b[39m  render() {\u001b[0m",
      "\u001b[0m\u001b[31m\u001b[1m>\u001b[22m\u001b[39m\u001b[90m 4 | \u001b[39m    \u001b[36mreturn\u001b[39m \u001b[33m<\u001b[39m\u001b[33mh1\u001b[39m\u001b[33m>\u001b[39m\u001b[33mHello\u001b[39m\u001b[33m,\u001b[39m {\u001b[36mthis\u001b[39m\u001b[33m.\u001b[39mprops\u001b[33m.\u001b[39mname}\u001b[33m<\u001b[39m\u001b[33m/\u001b[39m\u001b[33mh1\u001b[39m\u001b[33m>\u001b[39m\u001b[33m;\u001b[39m\u001b[0m",
      "\u001b[0m \u001b[90m   | \u001b[39m           \u001b[31m\u001b[1m^\u001b[22m\u001b[39m\u001b[0m",
      "\u001b[0m \u001b[90m 5 | \u001b[39m  }\u001b[0m",
      "\u001b[0m \u001b[90m 6 | \u001b[39m}\u001b[0m",
      "\u001b[0m \u001b[90m 7 | \u001b[39m\u001b[0m",
      "    at Parser._raise (/opt/conda/lib/node_modules/jp-babel/node_modules/@babel/parser/lib/index.js:742:17)",
      "    at Parser.raiseWithData (/opt/conda/lib/node_modules/jp-babel/node_modules/@babel/parser/lib/index.js:735:17)",
      "    at Parser.raise (/opt/conda/lib/node_modules/jp-babel/node_modules/@babel/parser/lib/index.js:729:17)",
      "    at Parser.unexpected (/opt/conda/lib/node_modules/jp-babel/node_modules/@babel/parser/lib/index.js:8757:16)",
      "    at Parser.parseExprAtom (/opt/conda/lib/node_modules/jp-babel/node_modules/@babel/parser/lib/index.js:10052:20)",
      "    at Parser.parseExprSubscripts (/opt/conda/lib/node_modules/jp-babel/node_modules/@babel/parser/lib/index.js:9602:23)",
      "    at Parser.parseMaybeUnary (/opt/conda/lib/node_modules/jp-babel/node_modules/@babel/parser/lib/index.js:9582:21)",
      "    at Parser.parseExprOps (/opt/conda/lib/node_modules/jp-babel/node_modules/@babel/parser/lib/index.js:9452:23)",
      "    at Parser.parseMaybeConditional (/opt/conda/lib/node_modules/jp-babel/node_modules/@babel/parser/lib/index.js:9425:23)",
      "    at Parser.parseMaybeAssign (/opt/conda/lib/node_modules/jp-babel/node_modules/@babel/parser/lib/index.js:9380:21)"
     ]
    }
   ],
   "source": [
    "import React from 'react'\n",
    "class Greeting extends React.Component {\n",
    "  render() {\n",
    "    return <h1>Hello, {this.props.name}</h1>;\n",
    "  }\n",
    "}\n"
   ]
  },
  {
   "cell_type": "code",
   "execution_count": 4,
   "metadata": {},
   "outputs": [
    {
     "data": {
      "text/plain": [
       "[Function: Hello]"
      ]
     },
     "execution_count": 4,
     "metadata": {},
     "output_type": "execute_result"
    }
   ],
   "source": [
    "Hello\n"
   ]
  },
  {
   "cell_type": "code",
   "execution_count": null,
   "metadata": {},
   "outputs": [],
   "source": []
  }
 ],
 "metadata": {
  "kernelspec": {
   "display_name": "jp-Babel (Node.js)",
   "language": "babel",
   "name": "babel"
  },
  "language_info": {
   "file_extension": ".js",
   "mimetype": "application/javascript",
   "name": "javascript",
   "version": "13.10.1"
  }
 },
 "nbformat": 4,
 "nbformat_minor": 4
}
